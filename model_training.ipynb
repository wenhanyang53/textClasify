{
 "cells": [
  {
   "cell_type": "code",
   "execution_count": null,
   "source": [
    "!pip install -U sentence-transformers"
   ],
   "outputs": [],
   "metadata": {
    "id": "xFsqEq-F7Tx8"
   }
  },
  {
   "cell_type": "code",
   "execution_count": 18,
   "source": [
    "import numpy as np\n",
    "import copy\n",
    "from torch.utils.data import Dataset, DataLoader\n",
    "import torch.nn as nn\n",
    "from typing import List\n",
    "import bisect\n",
    "import torch\n",
    "import torch.optim as optim\n",
    "import logging\n",
    "import numpy as np\n",
    "from tqdm import tqdm\n",
    "from sentence_transformers import SentenceTransformer, models, losses, datasets, evaluation\n",
    "from sentence_transformers.readers import InputExample\n",
    "from sklearn.neighbors import KNeighborsClassifier\n",
    "from annoy import AnnoyIndex\n",
    "import random\n",
    "from flask import Flask"
   ],
   "outputs": [],
   "metadata": {
    "colab": {
     "base_uri": "https://localhost:8080/"
    },
    "id": "nq2B6ANP9wrm",
    "outputId": "aebee94d-03c4-46fc-b4c2-1cf3dd4cc0b5"
   }
  },
  {
   "cell_type": "markdown",
   "source": [
    "## Download and format data"
   ],
   "metadata": {}
  },
  {
   "cell_type": "code",
   "execution_count": 3,
   "source": [
    "newsgroups_train = fetch_20newsgroups(subset='train')\n",
    "newsgroups_test = fetch_20newsgroups(subset='test')"
   ],
   "outputs": [],
   "metadata": {
    "colab": {
     "base_uri": "https://localhost:8080/"
    },
    "id": "PTHXxj_M-lnP",
    "outputId": "fcd86909-4fa0-43cd-bc01-2e7ef5384f7d"
   }
  },
  {
   "cell_type": "code",
   "execution_count": 12,
   "source": [
    "print(newsgroups_train.data[11])\n",
    "print(newsgroups_train.target[11])\n",
    "print(newsgroups_train.target_names)"
   ],
   "outputs": [
    {
     "output_type": "stream",
     "name": "stdout",
     "text": [
      "From: david@terminus.ericsson.se (David Bold)\n",
      "Subject: Re: Question for those with popular morality\n",
      "Reply-To: david@terminus.ericsson.se\n",
      "Distribution: world\n",
      "Organization: Camtec Electronics (Ericsson), Leicester, England\n",
      "Lines: 77\n",
      "Nntp-Posting-Host: bangkok\n",
      "\n",
      "In article 17570@freenet.carleton.ca, ad354@Freenet.carleton.ca (James Owens) writes:\n",
      ">\n",
      ">In a previous article, david@terminus.ericsson.se (David Bold) says:\n",
      ">\n",
      ">>\n",
      ">>I don't mean to be rude, but I think that you've got hold of the wrong\n",
      ">>end of a different stick...\n",
      ">>\n",
      ">>David\n",
      ">\n",
      ">I had a look at your posting again and I see what you mean!  I was so\n",
      ">intent on explaining how Jung thought we could be more moral than God that\n",
      ">I overlooked your main line of thought.\n",
      ">\n",
      ">You seem to be saying that, God being unknowable, His morality is unknowable.\n",
      "\n",
      "Yep, that's pretty much it. I'm not a Jew but I understand that this is the\n",
      "Jewish way of thinking. However, the Jews believe that the Covenant between\n",
      "YHWH and the Patriarchs (Abraham and Moses, in this case) establishes a Moral\n",
      "Code to follow for mankind. Even the Jews could not decide where the boundaries\n",
      "fall, though.\n",
      "\n",
      "As I understand it, the Sadducees believed that the Torah was all that was\n",
      "required, whereas the Pharisees (the ancestors of modern Judaism) believed that\n",
      "the Torah was available for interpretation to lead to an understanding of\n",
      "the required Morality in all its nuances (->Talmud).\n",
      "\n",
      "The essence of all of this is that Biblical Morality is an interface between\n",
      "Man and YHWH (for a Jew or Christian) and does not necessarily indicate\n",
      "anything about YHWH outside of that relationship (although one can speculate).\n",
      "\n",
      ">\n",
      ">The first thing that comes to mind is that man is supposed to be created\n",
      ">in His image, so there is an argument that we are committed to whatever\n",
      ">moral code He follows as part of trying to live up to that image.  If we\n",
      ">are supposed to live by Christ's example, you would be hard pressed to\n",
      ">argue that God is a \"do what I say, not what I do\" kind of guy.\n",
      "\n",
      "The trouble with all of this is that we don't really know what the \"created\n",
      "in His image\" means. I've heard a number of different opinions on this and\n",
      "have still not come to any conclusion. This rather upsets the Apple Cart if\n",
      "one wants to base a Life Script on this shaky foundation (to mix metaphors\n",
      "unashamedly!) As to living by Christ's example, we know very little about\n",
      "Jesus as a person. We only have his recorded utterances in a set of narratives\n",
      "by his followers, and some very small references from comtemporary historians.\n",
      "Revelation aside, one can only \"know\" Christ second-hand or worse.\n",
      "\n",
      "This is not an attempt to debunk Christianity (although it may seem that way\n",
      "initially), the point I`m trying to make is that we only really have the Bible\n",
      "to interpret, and that interpretation is by humanity. I guess this is where\n",
      "Faith or Relevation comes in with all its inherent subjectiveness.\n",
      "\n",
      ">\n",
      ">Metaphysically, if there are multiple moral codes then there is no\n",
      ">Absolute moral code, and I think this is theologically questionable.\n",
      "\n",
      "No. There may be an absolute moral code. There are undoubtably multiple\n",
      "moral codes. The multiple moral codes may be founded in the absolute moral\n",
      "code. As an example, a parent may tell a child never to swear, and the child\n",
      "may assume that the parent never swears simply because the parent has told\n",
      "the child that it is \"wrong\". Now, the parent may swear like a trooper in\n",
      "the pub or bar (where there are no children). The \"wrongness\" here is if\n",
      "the child disobeys the parent. The parent may feel that it is \"inappropriate\"\n",
      "to swear in front of children but may be quite happy to swear in front of\n",
      "animals. The analogy does not quite hold water because the child knows that\n",
      "he is of the same type as the parent (and may be a parent later in life) but\n",
      "you get the gist of it? Incidentally, the young child considers the directive\n",
      "as absolute until he gets older (see Piaget) and learns a morality of his own.\n",
      "\n",
      "David.\n",
      "\n",
      "---\n",
      "On religion:\n",
      "\n",
      "\"Oh, where is the sea?\", the fishes cried,\n",
      "As they swam its clearness through.\n",
      "\n",
      "\n",
      "19\n",
      "['alt.atheism', 'comp.graphics', 'comp.os.ms-windows.misc', 'comp.sys.ibm.pc.hardware', 'comp.sys.mac.hardware', 'comp.windows.x', 'misc.forsale', 'rec.autos', 'rec.motorcycles', 'rec.sport.baseball', 'rec.sport.hockey', 'sci.crypt', 'sci.electronics', 'sci.med', 'sci.space', 'soc.religion.christian', 'talk.politics.guns', 'talk.politics.mideast', 'talk.politics.misc', 'talk.religion.misc']\n"
     ]
    }
   ],
   "metadata": {
    "colab": {
     "base_uri": "https://localhost:8080/"
    },
    "id": "X1DvIgHP30Hy",
    "outputId": "7177142f-714e-478b-ca9a-53f3daee2c03"
   }
  },
  {
   "cell_type": "code",
   "execution_count": 13,
   "source": [
    "train_examples = []\n",
    "for i in range(newsgroups_train.filenames.shape[0]):\n",
    "  train_examples.append(InputExample(texts=newsgroups_train.data[i], label=newsgroups_train.target[i]))\n",
    "  # train_examples.append(InputExample(texts=newsgroups_train.data[i]))\n",
    "\n",
    "test_examples = []\n",
    "for i in range(newsgroups_test.filenames.shape[0]):\n",
    "  test_examples.append(InputExample(texts=newsgroups_test.data[i], label=newsgroups_test.target[i]))\n",
    "  # test_examples.append(InputExample(texts=newsgroups_test.data[i]))"
   ],
   "outputs": [],
   "metadata": {
    "id": "1CgDMExxc8oc"
   }
  },
  {
   "cell_type": "code",
   "execution_count": null,
   "source": [
    "from pprint import pprint\n",
    "\n",
    "pprint(list(newsgroups_train.target_names))"
   ],
   "outputs": [
    {
     "output_type": "stream",
     "name": "stdout",
     "text": [
      "['alt.atheism',\n",
      " 'comp.graphics',\n",
      " 'comp.os.ms-windows.misc',\n",
      " 'comp.sys.ibm.pc.hardware',\n",
      " 'comp.sys.mac.hardware',\n",
      " 'comp.windows.x',\n",
      " 'misc.forsale',\n",
      " 'rec.autos',\n",
      " 'rec.motorcycles',\n",
      " 'rec.sport.baseball',\n",
      " 'rec.sport.hockey',\n",
      " 'sci.crypt',\n",
      " 'sci.electronics',\n",
      " 'sci.med',\n",
      " 'sci.space',\n",
      " 'soc.religion.christian',\n",
      " 'talk.politics.guns',\n",
      " 'talk.politics.mideast',\n",
      " 'talk.politics.misc',\n",
      " 'talk.religion.misc']\n"
     ]
    }
   ],
   "metadata": {
    "colab": {
     "base_uri": "https://localhost:8080/"
    },
    "id": "wqysuWArFH9R",
    "outputId": "3a8b4957-1949-4da0-e4f3-3211fa2ad53f"
   }
  },
  {
   "cell_type": "markdown",
   "source": [
    "## Create Triplet dataset (Modified from SentenceLabelDataset)"
   ],
   "metadata": {}
  },
  {
   "cell_type": "code",
   "execution_count": 14,
   "source": [
    "class NewsgroupsDataset(Dataset):\n",
    "    \"\"\"\n",
    "    Dataset for training with triplet loss.\n",
    "    This dataset takes a list of sentences grouped by their label and uses this grouping to dynamically select a\n",
    "    positive example from the same group and a negative example from the other domain for a selected anchor sentence.\n",
    "    \"\"\"\n",
    "\n",
    "    def __init__(self, examples: List[InputExample], provide_positive: bool = True,\n",
    "                 provide_negative: bool = True):\n",
    "        \"\"\"\n",
    "        Converts input examples to a SentenceLabelDataset usable to train the model with\n",
    "        SentenceTransformer.smart_batching_collate as the collate_fn for the DataLoader\n",
    "        Assumes only one sentence per InputExample and labels as integers from 0 to max_num_labels\n",
    "        and should be used in combination with dataset_reader.LabelSentenceReader.\n",
    "        Labels with only one example are ignored.\n",
    "        smart_batching_collate as collate_fn is required because it transforms the tokenized texts to the tensors.\n",
    "        :param examples:\n",
    "            the input examples for the training\n",
    "        :param model\n",
    "            the Sentence BERT model for the conversion\n",
    "        :param provide_positive:\n",
    "            set this to False, if you don't need a positive example (e.g. for BATCH_HARD_TRIPLET_LOSS).\n",
    "        :param provide_negative:\n",
    "            set this to False, if you don't need a negative example (e.g. for BATCH_HARD_TRIPLET_LOSS\n",
    "            or MULTIPLE_NEGATIVES_RANKING_LOSS).\n",
    "        \"\"\"\n",
    "        self.input = examples\n",
    "        \n",
    "        self.grouped_inputs = {}\n",
    "        self.grouped_domain = {}\n",
    "        self.example_length = examples.filenames.shape[0]\n",
    "\n",
    "        self.convert_input_examples(examples)\n",
    "\n",
    "        self.provide_positive = provide_positive\n",
    "        self.provide_negative = provide_negative\n",
    "\n",
    "\n",
    "    def convert_input_examples(self, examples: List[InputExample]):\n",
    "        \"\"\"\n",
    "        Converts input examples to a SentenceLabelDataset.\n",
    "        Create the dictionary for postive and negative\n",
    "        :param examples:\n",
    "            the input examples for the training\n",
    "        \"\"\"\n",
    "        all_domains = examples.target_names\n",
    "        # Group examples\n",
    "        # Add examples with the same label to the same dict\n",
    "\n",
    "        for ex_index in range(self.example_length):\n",
    "\n",
    "            if examples.target[ex_index] in self.grouped_inputs:\n",
    "                self.grouped_inputs[examples.target[ex_index]].append(ex_index)\n",
    "            else:\n",
    "                self.grouped_inputs[examples.target[ex_index]] = [ex_index]\n",
    "\n",
    "        # Group examples\n",
    "        # Add examples with the same first class domain to the same dict\n",
    "        \n",
    "        for ex_index in range(self.example_length):\n",
    "            first_domain = all_domains[examples.target[ex_index]].split('.')[0]\n",
    "            if first_domain in self.grouped_domain:\n",
    "                self.grouped_domain[first_domain].append(ex_index)\n",
    "            else:\n",
    "                self.grouped_domain[first_domain] = [ex_index]\n",
    "\n",
    "\n",
    "    def __getitem__(self, item):\n",
    "        if not self.provide_positive and not self.provide_negative:\n",
    "            return [self.input.data[item]], self.input.data[item]\n",
    "\n",
    "        # Anchor element\n",
    "        anchor = self.input.data[item]\n",
    "\n",
    "        # Get positive from the same group\n",
    "        if self.provide_positive:\n",
    "            group_exclusive = copy.deepcopy(self.grouped_inputs[self.input.target[item]])\n",
    "            group_exclusive.remove(item)\n",
    "            positive_item_idx = np.random.choice(group_exclusive, 1)\n",
    "            positive = self.input.data[positive_item_idx[0]]\n",
    "        else:\n",
    "            positive = ''\n",
    "        # Get negative from the random choice of another first class domain\n",
    "        if self.provide_negative:\n",
    "            group_domain_index = self.input.target[item]\n",
    "            group_domain = self.input.target_names[group_domain_index].split('.')[0]\n",
    "\n",
    "            distinct_domains = list(self.grouped_domain.keys())\n",
    "            distinct_domains.remove(group_domain)\n",
    "            group_choice = np.random.choice(distinct_domains, 1)\n",
    "            negative_item_idx = np.random.choice(self.grouped_domain[group_choice[0]], 1)\n",
    "            negative = self.input.data[negative_item_idx[0]]\n",
    "        else:\n",
    "            negative = ''\n",
    "\n",
    "        return InputExample(texts=[anchor, positive, negative])\n",
    "\n",
    "\n",
    "    def __len__(self):\n",
    "        return self.example_length"
   ],
   "outputs": [],
   "metadata": {
    "id": "6lfVCb8TpRoN"
   }
  },
  {
   "cell_type": "code",
   "execution_count": 15,
   "source": [
    "model = SentenceTransformer('distilbert-base-nli-mean-tokens')"
   ],
   "outputs": [],
   "metadata": {
    "id": "jQ0u1c4TKn5g"
   }
  },
  {
   "cell_type": "code",
   "execution_count": 26,
   "source": [
    "print(model)"
   ],
   "outputs": [
    {
     "output_type": "stream",
     "name": "stdout",
     "text": [
      "SentenceTransformer(\n",
      "  (0): Transformer({'max_seq_length': 128, 'do_lower_case': False}) with Transformer model: DistilBertModel \n",
      "  (1): Pooling({'word_embedding_dimension': 768, 'pooling_mode_cls_token': False, 'pooling_mode_mean_tokens': True, 'pooling_mode_max_tokens': False, 'pooling_mode_mean_sqrt_len_tokens': False})\n",
      ")\n"
     ]
    }
   ],
   "metadata": {
    "colab": {
     "base_uri": "https://localhost:8080/"
    },
    "id": "CPiHNLAMKxF4",
    "outputId": "f8769132-3ed6-4ef5-f7f8-9e946e1aaed7"
   }
  },
  {
   "cell_type": "code",
   "execution_count": 16,
   "source": [
    "dataset_train = NewsgroupsDataset(newsgroups_train)\n",
    "dataset_test = NewsgroupsDataset(newsgroups_test)\n",
    "\n",
    "dataloader_train = DataLoader(dataset_train, batch_size=16)\n",
    "dataloader_test = DataLoader(dataset_test, batch_size=16)"
   ],
   "outputs": [],
   "metadata": {
    "id": "8pW8m0PnG-Kz"
   }
  },
  {
   "cell_type": "code",
   "execution_count": 25,
   "source": [
    "train_loss = losses.TripletLoss(model=model)\n",
    "\n",
    "anchor_list = []\n",
    "postive_list = []\n",
    "negative_list = []\n",
    "for i in dataset_train:\n",
    "    anchor_list.append(i.texts[0])\n",
    "    postive_list.append(i.texts[1])\n",
    "    negative_list.append(i.texts[2])\n",
    "\n",
    "evaluator = evaluation.TripletEvaluator(anchor_list, postive_list, negative_list)\n",
    "\n",
    "model.fit(train_objectives=[(dataloader_train, train_loss)], \n",
    "          epochs=1, \n",
    "          warmup_steps=100, \n",
    "          evaluator=evaluator, \n",
    "          evaluation_steps=500,\n",
    "          output_path=\"./mymodel\")"
   ],
   "outputs": [
    {
     "output_type": "display_data",
     "data": {
      "application/vnd.jupyter.widget-view+json": {
       "model_id": "1cbbe8b521fe49d4a171b0b21e75c498",
       "version_major": 2,
       "version_minor": 0
      },
      "text/plain": [
       "Epoch:   0%|          | 0/1 [00:00<?, ?it/s]"
      ]
     },
     "metadata": {}
    },
    {
     "output_type": "display_data",
     "data": {
      "application/vnd.jupyter.widget-view+json": {
       "model_id": "40f13bcd3ee34e1bbbd69cfd81c60508",
       "version_major": 2,
       "version_minor": 0
      },
      "text/plain": [
       "Iteration:   0%|          | 0/708 [00:00<?, ?it/s]"
      ]
     },
     "metadata": {}
    }
   ],
   "metadata": {
    "colab": {
     "background_save": true,
     "base_uri": "https://localhost:8080/",
     "height": 81,
     "referenced_widgets": [
      "1576ceadec4e4549978f3b348da116d3",
      "ec66721eb3144732a656e1797a13bb8b",
      "2fa73a930d7e4950b89dec8520d6ef02",
      "75a6c35052f64dea91e74899bb671c45",
      "8cc309c67f8a4cbcb7fe215d352998d8",
      "50cc3f923f1647cd8ef31fa04c6f1c2b",
      "faf41a0aaee74f2daebd83bd0e9a9b20",
      "e31a3ec234df4fa5acb89f4624c13208",
      "1c668ea9f43a4211a0314dc711fdec33",
      "a9d88aa586f74817bab1c5b370351ec7",
      "5d0a2d9b07884d2dbeab495bfa4026b1",
      "5f408c452a1e4765a3a396faa7d1ad00",
      "2666c32a69fe4c4c939cd0154b5aeee5",
      "46ad4a5afe42447cb391961424b4bb34",
      "f511f9d1a71543caa59afb85566b1356",
      "bfb5b9b6cbe542d89cf807b14f5edee5",
      "709702303ee347c2a8c29c4ad4bfbf05",
      "6ac03c0a5ef046c8a7dcbec6dc1b7f93",
      "8e02bf583fcc4f2fa374d707238885e0",
      "caed72dbc5f744b0bfef75e9a7fe2e31",
      "78ba23d6db7e44989114758d496a7b5b",
      "edf9cd4bb6b84fe3bb5129d8eb2640e2"
     ]
    },
    "id": "wlMvEQF8Scq7",
    "outputId": "9f72dd4f-3c56-47a4-a258-636c8fbbd407"
   }
  },
  {
   "cell_type": "markdown",
   "source": [
    "## Prediction model"
   ],
   "metadata": {}
  },
  {
   "cell_type": "code",
   "execution_count": 13,
   "source": [
    "def embedding(dataset, path):\n",
    "    model = SentenceTransformer(path)\n",
    "    embeddings = model.encode(dataset)\n",
    "    print(len(embeddings))\n",
    "    return embeddings"
   ],
   "outputs": [],
   "metadata": {
    "id": "8lhtv0w30_1m"
   }
  },
  {
   "cell_type": "code",
   "execution_count": 14,
   "source": [
    "def annoy_index(embeddings):\n",
    "    vector_length = embeddings[0].shape[0]\n",
    "    num_example = len(embeddings)\n",
    "\n",
    "    tree = AnnoyIndex(vector_length, 'angular')  # Length of item vector that will be indexed\n",
    "    for i, vector in zip(range(num_example), embeddings):\n",
    "        tree.add_item(i, vector)\n",
    "\n",
    "    tree.build(100)\n",
    "\n",
    "    index = []\n",
    "    for vector in embeddings:\n",
    "        index.append(tree.get_nns_by_vector(vector, 100))\n",
    "\n",
    "    return index"
   ],
   "outputs": [],
   "metadata": {}
  },
  {
   "cell_type": "code",
   "execution_count": 15,
   "source": [
    "def predict(x_train, y_train):\n",
    "    knn = KNeighborsClassifier(n_neighbors=5)\n",
    "    knn.fit(x_train, y_train)\n",
    "\n",
    "    return knn"
   ],
   "outputs": [],
   "metadata": {}
  },
  {
   "cell_type": "code",
   "execution_count": 24,
   "source": [
    "def pipeline(dataset, path, num_dataset: int = None, str_to_classify: str = None):\n",
    "    \"\"\"\n",
    "    param dataset:\n",
    "        dataset with label to train and get predictions\n",
    "    \n",
    "    param num_dataset:\n",
    "        The index number of the dataset that is to be predicted its label\n",
    "        if None, it will return the accuracy of the model\n",
    "\n",
    "    param str_to_classify:\n",
    "        The string that is to be predicted\n",
    "\n",
    "    \"\"\"\n",
    "    if str_to_classify:\n",
    "        dataset.data.append(str_to_classify)\n",
    "        embeddings = embedding(dataset.data, path)\n",
    "    else:\n",
    "        embeddings = embedding(dataset.data, path)\n",
    "\n",
    "    index = annoy_index(embeddings)\n",
    "\n",
    "    if str_to_classify:\n",
    "        if len(index)-1 in index[-1]:\n",
    "            index[-1].remove(len(index)-1)\n",
    "        knn = predict([embeddings[j] for j in index[-1]], [dataset.target[j] for j in index[-1]])\n",
    "        prediction = knn.predict([embeddings[-1]])\n",
    "        print(prediction)\n",
    "        return prediction\n",
    "\n",
    "    x_train_group = []\n",
    "    y_train_group = []\n",
    "\n",
    "    for i in index:\n",
    "        x_train_group.append([embeddings[j] for j in i])\n",
    "        y_train_group.append([dataset.target[j] for j in i])\n",
    "\n",
    "    x_train_group = np.array(x_train_group)\n",
    "    y_train_group = np.array(y_train_group)\n",
    "\n",
    "    if type(num_dataset) == int:\n",
    "        knn = predict(x_train_group[num_dataset], y_train_group[num_dataset])\n",
    "        prediction = knn.predict([embeddings[num_dataset]])\n",
    "        print(prediction)\n",
    "        return prediction\n",
    "    else:\n",
    "        y_predict = []\n",
    "        for i in range(x_train_group.shape[0]):\n",
    "            knn = predict(x_train_group[i], y_train_group[i])\n",
    "            y_predict.append(knn.predict([embeddings[i]]))\n",
    "\n",
    "        num_prediction = 0\n",
    "        for i in range(x_train_group.shape[0]):\n",
    "            if y_predict[i] == dataset.target[i]:\n",
    "                num_prediction += 1\n",
    "\n",
    "        score = num_prediction / x_train_group.shape[0]\n",
    "        print(score)\n",
    "        return score"
   ],
   "outputs": [],
   "metadata": {}
  },
  {
   "cell_type": "markdown",
   "source": [
    "## Compare the result with pretrained model"
   ],
   "metadata": {}
  },
  {
   "cell_type": "code",
   "execution_count": 112,
   "source": [
    "pipeline(fetch_20newsgroups(subset='train'), \"./mymodel\")\n",
    "pipeline(fetch_20newsgroups(subset='train'), \"distilbert-base-nli-mean-tokens\")"
   ],
   "outputs": [
    {
     "output_type": "stream",
     "name": "stdout",
     "text": [
      "11314\n",
      "0.8928760827293618\n",
      "11314\n",
      "0.7601202050556832\n"
     ]
    },
    {
     "output_type": "execute_result",
     "data": {
      "text/plain": [
       "0.7601202050556832"
      ]
     },
     "metadata": {},
     "execution_count": 112
    }
   ],
   "metadata": {}
  },
  {
   "cell_type": "markdown",
   "source": [
    "## Predict given text"
   ],
   "metadata": {}
  },
  {
   "cell_type": "code",
   "execution_count": 19,
   "source": [
    "str_to_classify = 'I want to be elected as a president of France'\n",
    "pipeline(dataset=fetch_20newsgroups(subset='train'), path=\"./mymodel\", str_to_classify=str_to_classify)"
   ],
   "outputs": [
    {
     "output_type": "stream",
     "name": "stdout",
     "text": [
      "11315\n",
      "[19]\n"
     ]
    },
    {
     "output_type": "execute_result",
     "data": {
      "text/plain": [
       "array([19])"
      ]
     },
     "metadata": {},
     "execution_count": 19
    }
   ],
   "metadata": {}
  },
  {
   "cell_type": "markdown",
   "source": [
    "## Predict given text from the dataset"
   ],
   "metadata": {}
  },
  {
   "cell_type": "code",
   "execution_count": 25,
   "source": [
    "pipeline(dataset=fetch_20newsgroups(subset='train'), path=\"./mymodel\", num_dataset=0)\n",
    "print(fetch_20newsgroups(subset='train').target[0])"
   ],
   "outputs": [
    {
     "output_type": "stream",
     "name": "stdout",
     "text": [
      "11314\n",
      "[7]\n",
      "7\n"
     ]
    }
   ],
   "metadata": {}
  },
  {
   "cell_type": "code",
   "execution_count": null,
   "source": [],
   "outputs": [],
   "metadata": {}
  }
 ],
 "metadata": {
  "accelerator": "GPU",
  "colab": {
   "collapsed_sections": [],
   "name": "vocads.ipynb",
   "provenance": []
  },
  "environment": {
   "name": "common-cu110.m59",
   "type": "gcloud",
   "uri": "gcr.io/deeplearning-platform-release/base-cu110:m59"
  },
  "kernelspec": {
   "display_name": "Python 3",
   "language": "python",
   "name": "python3"
  },
  "language_info": {
   "codemirror_mode": {
    "name": "ipython",
    "version": 3
   },
   "file_extension": ".py",
   "mimetype": "text/x-python",
   "name": "python",
   "nbconvert_exporter": "python",
   "pygments_lexer": "ipython3",
   "version": "3.7.8"
  },
  "widgets": {
   "application/vnd.jupyter.widget-state+json": {
    "1576ceadec4e4549978f3b348da116d3": {
     "model_module": "@jupyter-widgets/controls",
     "model_module_version": "1.5.0",
     "model_name": "HBoxModel",
     "state": {
      "_dom_classes": [],
      "_model_module": "@jupyter-widgets/controls",
      "_model_module_version": "1.5.0",
      "_model_name": "HBoxModel",
      "_view_count": null,
      "_view_module": "@jupyter-widgets/controls",
      "_view_module_version": "1.5.0",
      "_view_name": "HBoxView",
      "box_style": "",
      "children": [
       "IPY_MODEL_ec66721eb3144732a656e1797a13bb8b",
       "IPY_MODEL_2fa73a930d7e4950b89dec8520d6ef02",
       "IPY_MODEL_75a6c35052f64dea91e74899bb671c45"
      ],
      "layout": "IPY_MODEL_8cc309c67f8a4cbcb7fe215d352998d8"
     }
    },
    "1c668ea9f43a4211a0314dc711fdec33": {
     "model_module": "@jupyter-widgets/controls",
     "model_module_version": "1.5.0",
     "model_name": "ProgressStyleModel",
     "state": {
      "_model_module": "@jupyter-widgets/controls",
      "_model_module_version": "1.5.0",
      "_model_name": "ProgressStyleModel",
      "_view_count": null,
      "_view_module": "@jupyter-widgets/base",
      "_view_module_version": "1.2.0",
      "_view_name": "StyleView",
      "bar_color": null,
      "description_width": ""
     }
    },
    "2666c32a69fe4c4c939cd0154b5aeee5": {
     "model_module": "@jupyter-widgets/controls",
     "model_module_version": "1.5.0",
     "model_name": "HTMLModel",
     "state": {
      "_dom_classes": [],
      "_model_module": "@jupyter-widgets/controls",
      "_model_module_version": "1.5.0",
      "_model_name": "HTMLModel",
      "_view_count": null,
      "_view_module": "@jupyter-widgets/controls",
      "_view_module_version": "1.5.0",
      "_view_name": "HTMLView",
      "description": "",
      "description_tooltip": null,
      "layout": "IPY_MODEL_709702303ee347c2a8c29c4ad4bfbf05",
      "placeholder": "​",
      "style": "IPY_MODEL_6ac03c0a5ef046c8a7dcbec6dc1b7f93",
      "value": "Iteration:   0%"
     }
    },
    "2fa73a930d7e4950b89dec8520d6ef02": {
     "model_module": "@jupyter-widgets/controls",
     "model_module_version": "1.5.0",
     "model_name": "FloatProgressModel",
     "state": {
      "_dom_classes": [],
      "_model_module": "@jupyter-widgets/controls",
      "_model_module_version": "1.5.0",
      "_model_name": "FloatProgressModel",
      "_view_count": null,
      "_view_module": "@jupyter-widgets/controls",
      "_view_module_version": "1.5.0",
      "_view_name": "ProgressView",
      "bar_style": "",
      "description": "",
      "description_tooltip": null,
      "layout": "IPY_MODEL_e31a3ec234df4fa5acb89f4624c13208",
      "max": 1,
      "min": 0,
      "orientation": "horizontal",
      "style": "IPY_MODEL_1c668ea9f43a4211a0314dc711fdec33",
      "value": 0
     }
    },
    "46ad4a5afe42447cb391961424b4bb34": {
     "model_module": "@jupyter-widgets/controls",
     "model_module_version": "1.5.0",
     "model_name": "FloatProgressModel",
     "state": {
      "_dom_classes": [],
      "_model_module": "@jupyter-widgets/controls",
      "_model_module_version": "1.5.0",
      "_model_name": "FloatProgressModel",
      "_view_count": null,
      "_view_module": "@jupyter-widgets/controls",
      "_view_module_version": "1.5.0",
      "_view_name": "ProgressView",
      "bar_style": "",
      "description": "",
      "description_tooltip": null,
      "layout": "IPY_MODEL_8e02bf583fcc4f2fa374d707238885e0",
      "max": 708,
      "min": 0,
      "orientation": "horizontal",
      "style": "IPY_MODEL_caed72dbc5f744b0bfef75e9a7fe2e31",
      "value": 0
     }
    },
    "50cc3f923f1647cd8ef31fa04c6f1c2b": {
     "model_module": "@jupyter-widgets/base",
     "model_module_version": "1.2.0",
     "model_name": "LayoutModel",
     "state": {
      "_model_module": "@jupyter-widgets/base",
      "_model_module_version": "1.2.0",
      "_model_name": "LayoutModel",
      "_view_count": null,
      "_view_module": "@jupyter-widgets/base",
      "_view_module_version": "1.2.0",
      "_view_name": "LayoutView",
      "align_content": null,
      "align_items": null,
      "align_self": null,
      "border": null,
      "bottom": null,
      "display": null,
      "flex": null,
      "flex_flow": null,
      "grid_area": null,
      "grid_auto_columns": null,
      "grid_auto_flow": null,
      "grid_auto_rows": null,
      "grid_column": null,
      "grid_gap": null,
      "grid_row": null,
      "grid_template_areas": null,
      "grid_template_columns": null,
      "grid_template_rows": null,
      "height": null,
      "justify_content": null,
      "justify_items": null,
      "left": null,
      "margin": null,
      "max_height": null,
      "max_width": null,
      "min_height": null,
      "min_width": null,
      "object_fit": null,
      "object_position": null,
      "order": null,
      "overflow": null,
      "overflow_x": null,
      "overflow_y": null,
      "padding": null,
      "right": null,
      "top": null,
      "visibility": null,
      "width": null
     }
    },
    "5d0a2d9b07884d2dbeab495bfa4026b1": {
     "model_module": "@jupyter-widgets/controls",
     "model_module_version": "1.5.0",
     "model_name": "DescriptionStyleModel",
     "state": {
      "_model_module": "@jupyter-widgets/controls",
      "_model_module_version": "1.5.0",
      "_model_name": "DescriptionStyleModel",
      "_view_count": null,
      "_view_module": "@jupyter-widgets/base",
      "_view_module_version": "1.2.0",
      "_view_name": "StyleView",
      "description_width": ""
     }
    },
    "5f408c452a1e4765a3a396faa7d1ad00": {
     "model_module": "@jupyter-widgets/controls",
     "model_module_version": "1.5.0",
     "model_name": "HBoxModel",
     "state": {
      "_dom_classes": [],
      "_model_module": "@jupyter-widgets/controls",
      "_model_module_version": "1.5.0",
      "_model_name": "HBoxModel",
      "_view_count": null,
      "_view_module": "@jupyter-widgets/controls",
      "_view_module_version": "1.5.0",
      "_view_name": "HBoxView",
      "box_style": "",
      "children": [
       "IPY_MODEL_2666c32a69fe4c4c939cd0154b5aeee5",
       "IPY_MODEL_46ad4a5afe42447cb391961424b4bb34",
       "IPY_MODEL_f511f9d1a71543caa59afb85566b1356"
      ],
      "layout": "IPY_MODEL_bfb5b9b6cbe542d89cf807b14f5edee5"
     }
    },
    "6ac03c0a5ef046c8a7dcbec6dc1b7f93": {
     "model_module": "@jupyter-widgets/controls",
     "model_module_version": "1.5.0",
     "model_name": "DescriptionStyleModel",
     "state": {
      "_model_module": "@jupyter-widgets/controls",
      "_model_module_version": "1.5.0",
      "_model_name": "DescriptionStyleModel",
      "_view_count": null,
      "_view_module": "@jupyter-widgets/base",
      "_view_module_version": "1.2.0",
      "_view_name": "StyleView",
      "description_width": ""
     }
    },
    "709702303ee347c2a8c29c4ad4bfbf05": {
     "model_module": "@jupyter-widgets/base",
     "model_module_version": "1.2.0",
     "model_name": "LayoutModel",
     "state": {
      "_model_module": "@jupyter-widgets/base",
      "_model_module_version": "1.2.0",
      "_model_name": "LayoutModel",
      "_view_count": null,
      "_view_module": "@jupyter-widgets/base",
      "_view_module_version": "1.2.0",
      "_view_name": "LayoutView",
      "align_content": null,
      "align_items": null,
      "align_self": null,
      "border": null,
      "bottom": null,
      "display": null,
      "flex": null,
      "flex_flow": null,
      "grid_area": null,
      "grid_auto_columns": null,
      "grid_auto_flow": null,
      "grid_auto_rows": null,
      "grid_column": null,
      "grid_gap": null,
      "grid_row": null,
      "grid_template_areas": null,
      "grid_template_columns": null,
      "grid_template_rows": null,
      "height": null,
      "justify_content": null,
      "justify_items": null,
      "left": null,
      "margin": null,
      "max_height": null,
      "max_width": null,
      "min_height": null,
      "min_width": null,
      "object_fit": null,
      "object_position": null,
      "order": null,
      "overflow": null,
      "overflow_x": null,
      "overflow_y": null,
      "padding": null,
      "right": null,
      "top": null,
      "visibility": null,
      "width": null
     }
    },
    "75a6c35052f64dea91e74899bb671c45": {
     "model_module": "@jupyter-widgets/controls",
     "model_module_version": "1.5.0",
     "model_name": "HTMLModel",
     "state": {
      "_dom_classes": [],
      "_model_module": "@jupyter-widgets/controls",
      "_model_module_version": "1.5.0",
      "_model_name": "HTMLModel",
      "_view_count": null,
      "_view_module": "@jupyter-widgets/controls",
      "_view_module_version": "1.5.0",
      "_view_name": "HTMLView",
      "description": "",
      "description_tooltip": null,
      "layout": "IPY_MODEL_a9d88aa586f74817bab1c5b370351ec7",
      "placeholder": "​",
      "style": "IPY_MODEL_5d0a2d9b07884d2dbeab495bfa4026b1",
      "value": " 0/1 [00:00&lt;?, ?it/s]"
     }
    },
    "78ba23d6db7e44989114758d496a7b5b": {
     "model_module": "@jupyter-widgets/base",
     "model_module_version": "1.2.0",
     "model_name": "LayoutModel",
     "state": {
      "_model_module": "@jupyter-widgets/base",
      "_model_module_version": "1.2.0",
      "_model_name": "LayoutModel",
      "_view_count": null,
      "_view_module": "@jupyter-widgets/base",
      "_view_module_version": "1.2.0",
      "_view_name": "LayoutView",
      "align_content": null,
      "align_items": null,
      "align_self": null,
      "border": null,
      "bottom": null,
      "display": null,
      "flex": null,
      "flex_flow": null,
      "grid_area": null,
      "grid_auto_columns": null,
      "grid_auto_flow": null,
      "grid_auto_rows": null,
      "grid_column": null,
      "grid_gap": null,
      "grid_row": null,
      "grid_template_areas": null,
      "grid_template_columns": null,
      "grid_template_rows": null,
      "height": null,
      "justify_content": null,
      "justify_items": null,
      "left": null,
      "margin": null,
      "max_height": null,
      "max_width": null,
      "min_height": null,
      "min_width": null,
      "object_fit": null,
      "object_position": null,
      "order": null,
      "overflow": null,
      "overflow_x": null,
      "overflow_y": null,
      "padding": null,
      "right": null,
      "top": null,
      "visibility": null,
      "width": null
     }
    },
    "8cc309c67f8a4cbcb7fe215d352998d8": {
     "model_module": "@jupyter-widgets/base",
     "model_module_version": "1.2.0",
     "model_name": "LayoutModel",
     "state": {
      "_model_module": "@jupyter-widgets/base",
      "_model_module_version": "1.2.0",
      "_model_name": "LayoutModel",
      "_view_count": null,
      "_view_module": "@jupyter-widgets/base",
      "_view_module_version": "1.2.0",
      "_view_name": "LayoutView",
      "align_content": null,
      "align_items": null,
      "align_self": null,
      "border": null,
      "bottom": null,
      "display": null,
      "flex": null,
      "flex_flow": null,
      "grid_area": null,
      "grid_auto_columns": null,
      "grid_auto_flow": null,
      "grid_auto_rows": null,
      "grid_column": null,
      "grid_gap": null,
      "grid_row": null,
      "grid_template_areas": null,
      "grid_template_columns": null,
      "grid_template_rows": null,
      "height": null,
      "justify_content": null,
      "justify_items": null,
      "left": null,
      "margin": null,
      "max_height": null,
      "max_width": null,
      "min_height": null,
      "min_width": null,
      "object_fit": null,
      "object_position": null,
      "order": null,
      "overflow": null,
      "overflow_x": null,
      "overflow_y": null,
      "padding": null,
      "right": null,
      "top": null,
      "visibility": null,
      "width": null
     }
    },
    "8e02bf583fcc4f2fa374d707238885e0": {
     "model_module": "@jupyter-widgets/base",
     "model_module_version": "1.2.0",
     "model_name": "LayoutModel",
     "state": {
      "_model_module": "@jupyter-widgets/base",
      "_model_module_version": "1.2.0",
      "_model_name": "LayoutModel",
      "_view_count": null,
      "_view_module": "@jupyter-widgets/base",
      "_view_module_version": "1.2.0",
      "_view_name": "LayoutView",
      "align_content": null,
      "align_items": null,
      "align_self": null,
      "border": null,
      "bottom": null,
      "display": null,
      "flex": null,
      "flex_flow": null,
      "grid_area": null,
      "grid_auto_columns": null,
      "grid_auto_flow": null,
      "grid_auto_rows": null,
      "grid_column": null,
      "grid_gap": null,
      "grid_row": null,
      "grid_template_areas": null,
      "grid_template_columns": null,
      "grid_template_rows": null,
      "height": null,
      "justify_content": null,
      "justify_items": null,
      "left": null,
      "margin": null,
      "max_height": null,
      "max_width": null,
      "min_height": null,
      "min_width": null,
      "object_fit": null,
      "object_position": null,
      "order": null,
      "overflow": null,
      "overflow_x": null,
      "overflow_y": null,
      "padding": null,
      "right": null,
      "top": null,
      "visibility": null,
      "width": null
     }
    },
    "a9d88aa586f74817bab1c5b370351ec7": {
     "model_module": "@jupyter-widgets/base",
     "model_module_version": "1.2.0",
     "model_name": "LayoutModel",
     "state": {
      "_model_module": "@jupyter-widgets/base",
      "_model_module_version": "1.2.0",
      "_model_name": "LayoutModel",
      "_view_count": null,
      "_view_module": "@jupyter-widgets/base",
      "_view_module_version": "1.2.0",
      "_view_name": "LayoutView",
      "align_content": null,
      "align_items": null,
      "align_self": null,
      "border": null,
      "bottom": null,
      "display": null,
      "flex": null,
      "flex_flow": null,
      "grid_area": null,
      "grid_auto_columns": null,
      "grid_auto_flow": null,
      "grid_auto_rows": null,
      "grid_column": null,
      "grid_gap": null,
      "grid_row": null,
      "grid_template_areas": null,
      "grid_template_columns": null,
      "grid_template_rows": null,
      "height": null,
      "justify_content": null,
      "justify_items": null,
      "left": null,
      "margin": null,
      "max_height": null,
      "max_width": null,
      "min_height": null,
      "min_width": null,
      "object_fit": null,
      "object_position": null,
      "order": null,
      "overflow": null,
      "overflow_x": null,
      "overflow_y": null,
      "padding": null,
      "right": null,
      "top": null,
      "visibility": null,
      "width": null
     }
    },
    "bfb5b9b6cbe542d89cf807b14f5edee5": {
     "model_module": "@jupyter-widgets/base",
     "model_module_version": "1.2.0",
     "model_name": "LayoutModel",
     "state": {
      "_model_module": "@jupyter-widgets/base",
      "_model_module_version": "1.2.0",
      "_model_name": "LayoutModel",
      "_view_count": null,
      "_view_module": "@jupyter-widgets/base",
      "_view_module_version": "1.2.0",
      "_view_name": "LayoutView",
      "align_content": null,
      "align_items": null,
      "align_self": null,
      "border": null,
      "bottom": null,
      "display": null,
      "flex": null,
      "flex_flow": null,
      "grid_area": null,
      "grid_auto_columns": null,
      "grid_auto_flow": null,
      "grid_auto_rows": null,
      "grid_column": null,
      "grid_gap": null,
      "grid_row": null,
      "grid_template_areas": null,
      "grid_template_columns": null,
      "grid_template_rows": null,
      "height": null,
      "justify_content": null,
      "justify_items": null,
      "left": null,
      "margin": null,
      "max_height": null,
      "max_width": null,
      "min_height": null,
      "min_width": null,
      "object_fit": null,
      "object_position": null,
      "order": null,
      "overflow": null,
      "overflow_x": null,
      "overflow_y": null,
      "padding": null,
      "right": null,
      "top": null,
      "visibility": null,
      "width": null
     }
    },
    "caed72dbc5f744b0bfef75e9a7fe2e31": {
     "model_module": "@jupyter-widgets/controls",
     "model_module_version": "1.5.0",
     "model_name": "ProgressStyleModel",
     "state": {
      "_model_module": "@jupyter-widgets/controls",
      "_model_module_version": "1.5.0",
      "_model_name": "ProgressStyleModel",
      "_view_count": null,
      "_view_module": "@jupyter-widgets/base",
      "_view_module_version": "1.2.0",
      "_view_name": "StyleView",
      "bar_color": null,
      "description_width": ""
     }
    },
    "e31a3ec234df4fa5acb89f4624c13208": {
     "model_module": "@jupyter-widgets/base",
     "model_module_version": "1.2.0",
     "model_name": "LayoutModel",
     "state": {
      "_model_module": "@jupyter-widgets/base",
      "_model_module_version": "1.2.0",
      "_model_name": "LayoutModel",
      "_view_count": null,
      "_view_module": "@jupyter-widgets/base",
      "_view_module_version": "1.2.0",
      "_view_name": "LayoutView",
      "align_content": null,
      "align_items": null,
      "align_self": null,
      "border": null,
      "bottom": null,
      "display": null,
      "flex": null,
      "flex_flow": null,
      "grid_area": null,
      "grid_auto_columns": null,
      "grid_auto_flow": null,
      "grid_auto_rows": null,
      "grid_column": null,
      "grid_gap": null,
      "grid_row": null,
      "grid_template_areas": null,
      "grid_template_columns": null,
      "grid_template_rows": null,
      "height": null,
      "justify_content": null,
      "justify_items": null,
      "left": null,
      "margin": null,
      "max_height": null,
      "max_width": null,
      "min_height": null,
      "min_width": null,
      "object_fit": null,
      "object_position": null,
      "order": null,
      "overflow": null,
      "overflow_x": null,
      "overflow_y": null,
      "padding": null,
      "right": null,
      "top": null,
      "visibility": null,
      "width": null
     }
    },
    "ec66721eb3144732a656e1797a13bb8b": {
     "model_module": "@jupyter-widgets/controls",
     "model_module_version": "1.5.0",
     "model_name": "HTMLModel",
     "state": {
      "_dom_classes": [],
      "_model_module": "@jupyter-widgets/controls",
      "_model_module_version": "1.5.0",
      "_model_name": "HTMLModel",
      "_view_count": null,
      "_view_module": "@jupyter-widgets/controls",
      "_view_module_version": "1.5.0",
      "_view_name": "HTMLView",
      "description": "",
      "description_tooltip": null,
      "layout": "IPY_MODEL_50cc3f923f1647cd8ef31fa04c6f1c2b",
      "placeholder": "​",
      "style": "IPY_MODEL_faf41a0aaee74f2daebd83bd0e9a9b20",
      "value": "Epoch:   0%"
     }
    },
    "edf9cd4bb6b84fe3bb5129d8eb2640e2": {
     "model_module": "@jupyter-widgets/controls",
     "model_module_version": "1.5.0",
     "model_name": "DescriptionStyleModel",
     "state": {
      "_model_module": "@jupyter-widgets/controls",
      "_model_module_version": "1.5.0",
      "_model_name": "DescriptionStyleModel",
      "_view_count": null,
      "_view_module": "@jupyter-widgets/base",
      "_view_module_version": "1.2.0",
      "_view_name": "StyleView",
      "description_width": ""
     }
    },
    "f511f9d1a71543caa59afb85566b1356": {
     "model_module": "@jupyter-widgets/controls",
     "model_module_version": "1.5.0",
     "model_name": "HTMLModel",
     "state": {
      "_dom_classes": [],
      "_model_module": "@jupyter-widgets/controls",
      "_model_module_version": "1.5.0",
      "_model_name": "HTMLModel",
      "_view_count": null,
      "_view_module": "@jupyter-widgets/controls",
      "_view_module_version": "1.5.0",
      "_view_name": "HTMLView",
      "description": "",
      "description_tooltip": null,
      "layout": "IPY_MODEL_78ba23d6db7e44989114758d496a7b5b",
      "placeholder": "​",
      "style": "IPY_MODEL_edf9cd4bb6b84fe3bb5129d8eb2640e2",
      "value": " 0/708 [00:00&lt;?, ?it/s]"
     }
    },
    "faf41a0aaee74f2daebd83bd0e9a9b20": {
     "model_module": "@jupyter-widgets/controls",
     "model_module_version": "1.5.0",
     "model_name": "DescriptionStyleModel",
     "state": {
      "_model_module": "@jupyter-widgets/controls",
      "_model_module_version": "1.5.0",
      "_model_name": "DescriptionStyleModel",
      "_view_count": null,
      "_view_module": "@jupyter-widgets/base",
      "_view_module_version": "1.2.0",
      "_view_name": "StyleView",
      "description_width": ""
     }
    }
   }
  }
 },
 "nbformat": 4,
 "nbformat_minor": 4
}